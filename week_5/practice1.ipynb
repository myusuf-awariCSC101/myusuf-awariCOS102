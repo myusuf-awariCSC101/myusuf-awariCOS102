{
 "cells": [
  {
   "cell_type": "code",
   "execution_count": 1,
   "metadata": {},
   "outputs": [],
   "source": [
    "import tkinter as tk\n",
    "from tkinter import messagebox\n",
    "\n",
    "#Handling button click event\n",
    "def button_click():\n",
    "    #print(\"Button clicked!\")\n",
    "\n",
    "    #show an information message box\n",
    "    messagebox.showinfo(\"Info\", \"Welcome to COS 102 GUI App!\\n\")\n",
    "\n",
    "    #Ask for user confirmation\n",
    "    result = messagebox.askyesno(\"Confimation\", \"Do you want to continue?\")\n",
    "\n",
    "#Create the main window\n",
    "root = tk.Tk()    \n",
    "root.title(\"Welcome Page\")\n",
    "root.geometry(\"450x250\")\n",
    "\n",
    "#Add a label widget\n",
    "label = tk.Label(root, text=\"Hello Friend\\n\")\n",
    "label.pack()\n",
    "\n",
    "#Add a button widget\n",
    "button = tk.Button(root, text=\"Click to Continue!\", command=button_click)\n",
    "button.pack()\n",
    "\n",
    "#Styling the button widget\n",
    "button.pack()\n",
    "\n",
    "#Styling the button widget\n",
    "button.config(fg=\"white\", bg=\"black\")\n",
    "\n",
    "#Start the event loop\n",
    "root.mainloop()\n"
   ]
  }
 ],
 "metadata": {
  "kernelspec": {
   "display_name": "Python 3",
   "language": "python",
   "name": "python3"
  },
  "language_info": {
   "codemirror_mode": {
    "name": "ipython",
    "version": 3
   },
   "file_extension": ".py",
   "mimetype": "text/x-python",
   "name": "python",
   "nbconvert_exporter": "python",
   "pygments_lexer": "ipython3",
   "version": "3.13.2"
  }
 },
 "nbformat": 4,
 "nbformat_minor": 2
}
