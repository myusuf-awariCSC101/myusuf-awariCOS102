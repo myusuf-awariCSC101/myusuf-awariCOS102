{
 "cells": [
  {
   "cell_type": "code",
   "execution_count": 2,
   "id": "7af3df96",
   "metadata": {},
   "outputs": [],
   "source": [
    "import tkinter as tk\n",
    "from tkinter import messagebox\n",
    "import pandas as pd\n",
    "\n",
    "def welcomeMessage(username):\n",
    "    #Create a Tkinter window\n",
    "    window = tk.Toplevel(root)\n",
    "    window.title(\"Department Waiting room\")\n",
    "    window.geometry(\"500x200\")\n",
    "\n",
    "    label_1 = tk.Label(window, text=f\"Welcome {username}\\n\")\n",
    "    label_1.pack()\n",
    "    label_2 = tk.Label(window, text=\"See other members of your department\")\n",
    "    label_2.pack()\n",
    "\n",
    "    #Run the Tkinter event loop \n",
    "    root.mainloop()\n",
    "\n",
    "def submit():\n",
    "    name = name_entry.get()\n",
    "    department = department_entry.get()\n",
    "\n",
    "    if name == \"Mary\" and department == \"cos102\":\n",
    "        welcomeMessage(name)\n",
    "    else:\n",
    "        messagebox.showerror(\"Oops\", \"Looks like the employee member does't exist\")\n",
    "\n",
    "#Create the main window\n",
    "root = tk.Tk()    \n",
    "root.title(\"Login Form\")\n",
    "root.geometry(\"500x200\")\n",
    "\n",
    "#Add a label widget\n",
    "name_label = tk.Label(root, text=\"Name:\")\n",
    "name_label.pack()\n",
    "name_entry = tk.Entry(root)\n",
    "name_entry.pack()\n",
    "\n",
    "department_label = tk.Label(root, text=\"Department:\")\n",
    "department_label.pack()\n",
    "department_entry = tk.Entry(root)\n",
    "department_entry.pack()\n",
    "\n",
    "\n",
    "#Add a button widget\n",
    "submit_button = tk.Button(root, text=\"Enter!\", command=submit)\n",
    "submit_button.pack()\n",
    "\n",
    "\n",
    "#Styling the button widget\n",
    "submit_button.config(fg=\"white\", bg=\"black\")\n",
    "\n",
    "#Start the event loop\n",
    "root.mainloop()"
   ]
  }
 ],
 "metadata": {
  "kernelspec": {
   "display_name": "Python 3",
   "language": "python",
   "name": "python3"
  },
  "language_info": {
   "codemirror_mode": {
    "name": "ipython",
    "version": 3
   },
   "file_extension": ".py",
   "mimetype": "text/x-python",
   "name": "python",
   "nbconvert_exporter": "python",
   "pygments_lexer": "ipython3",
   "version": "3.13.2"
  }
 },
 "nbformat": 4,
 "nbformat_minor": 5
}
