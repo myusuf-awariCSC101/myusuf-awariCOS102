{
 "cells": [
  {
   "cell_type": "code",
   "execution_count": null,
   "metadata": {},
   "outputs": [
    {
     "name": "stderr",
     "output_type": "stream",
     "text": [
      "Exception in Tkinter callback\n",
      "Traceback (most recent call last):\n",
      "  File \"c:\\Users\\awario\\AppData\\Local\\Programs\\Python\\Python313\\Lib\\tkinter\\__init__.py\", line 2068, in __call__\n",
      "    return self.func(*args)\n",
      "           ~~~~~~~~~^^^^^^^\n",
      "  File \"c:\\Users\\awario\\AppData\\Local\\Programs\\Python\\Python313\\Lib\\tkinter\\__init__.py\", line 4173, in __call__\n",
      "    self.__var.set(self.__value)\n",
      "    ^^^^^^^^^^^^^^\n",
      "AttributeError: 'Label' object has no attribute 'set'\n"
     ]
    },
    {
     "ename": "KeyboardInterrupt",
     "evalue": "",
     "output_type": "error",
     "traceback": [
      "\u001b[31m---------------------------------------------------------------------------\u001b[39m",
      "\u001b[31mKeyboardInterrupt\u001b[39m                         Traceback (most recent call last)",
      "\u001b[36mCell\u001b[39m\u001b[36m \u001b[39m\u001b[32mIn[8]\u001b[39m\u001b[32m, line 58\u001b[39m\n\u001b[32m     55\u001b[39m result = tk.Label(root, text=\u001b[33m\"\u001b[39m\u001b[33m\"\u001b[39m)\n\u001b[32m     56\u001b[39m result.pack()\n\u001b[32m---> \u001b[39m\u001b[32m58\u001b[39m \u001b[43mroot\u001b[49m\u001b[43m.\u001b[49m\u001b[43mmainloop\u001b[49m\u001b[43m(\u001b[49m\u001b[43m)\u001b[49m\n",
      "\u001b[36mFile \u001b[39m\u001b[32mc:\\Users\\awario\\AppData\\Local\\Programs\\Python\\Python313\\Lib\\tkinter\\__init__.py:1599\u001b[39m, in \u001b[36mMisc.mainloop\u001b[39m\u001b[34m(self, n)\u001b[39m\n\u001b[32m   1597\u001b[39m \u001b[38;5;28;01mdef\u001b[39;00m\u001b[38;5;250m \u001b[39m\u001b[34mmainloop\u001b[39m(\u001b[38;5;28mself\u001b[39m, n=\u001b[32m0\u001b[39m):\n\u001b[32m   1598\u001b[39m \u001b[38;5;250m    \u001b[39m\u001b[33;03m\"\"\"Call the mainloop of Tk.\"\"\"\u001b[39;00m\n\u001b[32m-> \u001b[39m\u001b[32m1599\u001b[39m     \u001b[38;5;28;43mself\u001b[39;49m\u001b[43m.\u001b[49m\u001b[43mtk\u001b[49m\u001b[43m.\u001b[49m\u001b[43mmainloop\u001b[49m\u001b[43m(\u001b[49m\u001b[43mn\u001b[49m\u001b[43m)\u001b[49m\n",
      "\u001b[31mKeyboardInterrupt\u001b[39m: "
     ]
    }
   ],
   "source": [
    "import tkinter as tk\n",
    "from tkinter import messagebox\n",
    "\n",
    "def calculate_charge():\n",
    "    location = location_var.get()\n",
    "    weight = weight.get()\n",
    "    \n",
    "    try:\n",
    "        weight = float(weight)\n",
    "        if weight <= 0:\n",
    "            messagebox.showerror(\"Weight must be greater than 0\")\n",
    "            return\n",
    "            \n",
    "        if location == \"Ibeju-Lekki\":\n",
    "            if weight >= 10:\n",
    "                charge = 5000\n",
    "            else:\n",
    "                charge = 3500\n",
    "        elif location == \"Epe\":\n",
    "            if weight >= 10:\n",
    "                charge = 10000\n",
    "            else:\n",
    "                charge = 5000\n",
    "        else:\n",
    "            messagebox.showerror(\"Select a valid location\")\n",
    "            return\n",
    "            \n",
    "        result.config(text=f\"Delivery Charge: N{charge:,}\")\n",
    "        \n",
    "    except ValueError:\n",
    "        messagebox.showerror(\"Error\", \"Please enter a valid weight\")\n",
    "\n",
    "# Create main window\n",
    "root = tk.Tk()\n",
    "root.title(\"Simi Services Delivery and Charges Calculator\")\n",
    "root.geometry(\"500x300\")\n",
    "\n",
    "# Location selection\n",
    "tk.Label(root, text=\"Select Location:\").pack(pady=10)\n",
    "location_var = tk.StringVar()\n",
    "location_var.set(\"Location\")\n",
    "\n",
    "locations = [\"Ibeju-Lekki\", \"Epe\"]\n",
    "location_menu = tk.OptionMenu(root, location_var, *locations)\n",
    "location_menu.config()\n",
    "location_menu.pack()\n",
    "\n",
    "# Weight input\n",
    "tk.Label(root, text=\"Enter Package Weight (kg):\").pack(pady=10)\n",
    "weight = tk.Entry(root)\n",
    "weight.pack()\n",
    "\n",
    "# Calculate button\n",
    "calculate_button = tk.Button(root, text=\"Calculate Charge\", command=calculate_charge, bg=\"black\", fg=\"white\")\n",
    "calculate_button.pack(pady=20)\n",
    "\n",
    "# Result display\n",
    "result = tk.Label(root, text=\"\")\n",
    "result.pack()\n",
    "\n",
    "root.mainloop()\n",
    "\n",
    "\n"
   ]
  }
 ],
 "metadata": {
  "kernelspec": {
   "display_name": "Python 3",
   "language": "python",
   "name": "python3"
  },
  "language_info": {
   "codemirror_mode": {
    "name": "ipython",
    "version": 3
   },
   "file_extension": ".py",
   "mimetype": "text/x-python",
   "name": "python",
   "nbconvert_exporter": "python",
   "pygments_lexer": "ipython3",
   "version": "3.13.2"
  }
 },
 "nbformat": 4,
 "nbformat_minor": 2
}
