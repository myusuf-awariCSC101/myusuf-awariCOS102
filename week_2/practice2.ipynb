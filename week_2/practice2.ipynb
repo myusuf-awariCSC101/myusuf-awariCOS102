{
 "cells": [
  {
   "cell_type": "code",
   "execution_count": 3,
   "metadata": {},
   "outputs": [
    {
     "name": "stdout",
     "output_type": "stream",
     "text": [
      "The energy equivalent to 2.0 kg of mass is 1.7997509582147363e+19 joules.\n"
     ]
    }
   ],
   "source": [
    "#Input from user\n",
    "m = float(input(\"Enter mass in kilograms: \"))\n",
    "\n",
    "#Constant value for the speed of light in m/s\n",
    "c = 2999792458\n",
    "\n",
    "#Calculating energy using Einstein's equation\n",
    "energy = m * c ** 2\n",
    "\n",
    "#Displaying the result\n",
    "print(f\"The energy equivalent to {m} kg of mass is {energy} joules.\")\n"
   ]
  }
 ],
 "metadata": {
  "kernelspec": {
   "display_name": "Python 3",
   "language": "python",
   "name": "python3"
  },
  "language_info": {
   "codemirror_mode": {
    "name": "ipython",
    "version": 3
   },
   "file_extension": ".py",
   "mimetype": "text/x-python",
   "name": "python",
   "nbconvert_exporter": "python",
   "pygments_lexer": "ipython3",
   "version": "3.13.2"
  }
 },
 "nbformat": 4,
 "nbformat_minor": 2
}
