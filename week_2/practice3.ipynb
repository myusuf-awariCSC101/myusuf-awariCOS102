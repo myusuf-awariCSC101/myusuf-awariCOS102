{
 "cells": [
  {
   "cell_type": "code",
   "execution_count": null,
   "metadata": {},
   "outputs": [
    {
     "ename": "SyntaxError",
     "evalue": "invalid syntax (1174282461.py, line 7)",
     "output_type": "error",
     "traceback": [
      "  \u001b[36mCell\u001b[39m\u001b[36m \u001b[39m\u001b[32mIn[2]\u001b[39m\u001b[32m, line 7\u001b[39m\n\u001b[31m    \u001b[39m\u001b[31mprint(list[2:])         '''Prints elements starting from 3rd element'''\u001b[39m\n                            ^\n\u001b[31mSyntaxError\u001b[39m\u001b[31m:\u001b[39m invalid syntax\n"
     ]
    }
   ],
   "source": [
    "list = ['Anaconda' , 786 , 2.23 , 'Jupyter' , 70.2 ]\n",
    "shortlist = [321, 'Python']\n",
    "\n",
    "print(list)             #Prints complete list \n",
    "print(list[0])          #Prints first element of the list\n",
    "print(list[1:3])        #Prints element starting from 2nd til 3rd\n",
    "print(list[2:])         #Prints elements starting from 3rd element'\n",
    "print(shortlist * 2)    #Prints list two times\n",
    "print(list + shortlist) #Prints concatenated list"
   ]
  }
 ],
 "metadata": {
  "kernelspec": {
   "display_name": "Python 3",
   "language": "python",
   "name": "python3"
  },
  "language_info": {
   "codemirror_mode": {
    "name": "ipython",
    "version": 3
   },
   "file_extension": ".py",
   "mimetype": "text/x-python",
   "name": "python",
   "nbconvert_exporter": "python",
   "pygments_lexer": "ipython3",
   "version": "3.13.2"
  }
 },
 "nbformat": 4,
 "nbformat_minor": 2
}
