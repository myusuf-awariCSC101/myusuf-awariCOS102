{
 "cells": [
  {
   "cell_type": "code",
   "execution_count": null,
   "id": "03d8f0ac",
   "metadata": {},
   "outputs": [],
   "source": [
    "START\n",
    "\n",
    "Initialize total = 0\n",
    "Initialize itemList as  []]\n",
    "\n",
    "WHILE customer has more items to checkout\n",
    "    ENTER item name\n",
    "    ENTER item price\n",
    "    SUM item price to total\n",
    "END WHILE\n",
    "\n",
    "DISPLAY list of items and total amount\n",
    "\n",
    "Prompt user to select payment method (Cash / Card / Mobile)\n",
    "\n",
    "IF payment method is Cash THEN\n",
    "    Prompt user to enter amount of cash given\n",
    "    IF cash given >= total THEN\n",
    "        Calculate change = cash given - total\n",
    "        Print receipt\n",
    "        Give change to customer\n",
    "        Display \"Payment successful\"\n",
    "    ELSE\n",
    "        Display \"Insufficient cash\"\n",
    "        Go back to payment method selection\n",
    "    END IF\n",
    "\n",
    "ELSE IF payment method is Card or Mobile THEN\n",
    "    Process electronic payment\n",
    "    IF payment is approved THEN\n",
    "        Print receipt\n",
    "        Display \"Payment successful\"\n",
    "    ELSE\n",
    "        Display \"Payment failed\"\n",
    "        Go back to payment method selection\n",
    "    END IF\n",
    "\n",
    "END IF\n",
    "\n",
    "Display \"Thank you for shopping!\"\n",
    "\n",
    "END"
   ]
  }
 ],
 "metadata": {
  "language_info": {
   "name": "python"
  }
 },
 "nbformat": 4,
 "nbformat_minor": 5
}
