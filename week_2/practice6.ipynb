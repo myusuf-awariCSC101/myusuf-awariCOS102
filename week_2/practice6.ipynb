{
 "cells": [
  {
   "cell_type": "code",
   "execution_count": null,
   "metadata": {},
   "outputs": [],
   "source": [
    "#convert to int\n",
    "\n",
    "grade = int(70)    #grade will be 70\n",
    "gpa = int(4.9)   #gpa will be 4.9\n",
    "cgpa = int(\"4\")    #cgpa will be 4\n",
    "\n",
    "print(f\"Grade = {grade}\")\n",
    "print(f\"GPA = {gpa}\")\n",
    "print(f\"CGPA = {cgpa}\")"
   ]
  }
 ],
 "metadata": {
  "language_info": {
   "name": "python"
  }
 },
 "nbformat": 4,
 "nbformat_minor": 2
}
