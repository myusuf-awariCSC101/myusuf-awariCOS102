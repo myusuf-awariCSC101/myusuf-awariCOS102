{
 "cells": [
  {
   "cell_type": "code",
   "execution_count": null,
   "metadata": {},
   "outputs": [
    {
     "ename": "ValueError",
     "evalue": "math domain error",
     "output_type": "error",
     "traceback": [
      "\u001b[31m---------------------------------------------------------------------------\u001b[39m",
      "\u001b[31mValueError\u001b[39m                                Traceback (most recent call last)",
      "\u001b[36mCell\u001b[39m\u001b[36m \u001b[39m\u001b[32mIn[3]\u001b[39m\u001b[32m, line 7\u001b[39m\n\u001b[32m      4\u001b[39m c = \u001b[38;5;28mint\u001b[39m(\u001b[38;5;28minput\u001b[39m(\u001b[33m\"\u001b[39m\u001b[33mEnter the constant:\u001b[39m\u001b[33m\"\u001b[39m ))\n\u001b[32m      5\u001b[39m \u001b[38;5;66;03m#equation = a*x^2 + b*x + c\u001b[39;00m\n\u001b[32m----> \u001b[39m\u001b[32m7\u001b[39m Answer1 = (-b + \u001b[43mmath\u001b[49m\u001b[43m.\u001b[49m\u001b[43msqrt\u001b[49m\u001b[43m(\u001b[49m\u001b[43mb\u001b[49m\u001b[43m*\u001b[49m\u001b[43m*\u001b[49m\u001b[32;43m2\u001b[39;49m\u001b[43m \u001b[49m\u001b[43m-\u001b[49m\u001b[43m \u001b[49m\u001b[32;43m4\u001b[39;49m\u001b[43m*\u001b[49m\u001b[43ma\u001b[49m\u001b[43m*\u001b[49m\u001b[43mc\u001b[49m\u001b[43m)\u001b[49m) / \u001b[32m2\u001b[39m*a \n\u001b[32m      8\u001b[39m Answer2 = (-b - math.sqrt(b**\u001b[32m2\u001b[39m - \u001b[32m4\u001b[39m*a*c)) / \u001b[32m2\u001b[39m*a \n\u001b[32m     10\u001b[39m \u001b[38;5;28mprint\u001b[39m(Answer1 \u001b[38;5;129;01mand\u001b[39;00m Answer2)\n",
      "\u001b[31mValueError\u001b[39m: math domain error"
     ]
    }
   ],
   "source": [
    "import math \n",
    "a = int(input(\"Enter the co-efficient of x^2: \" ))\n",
    "b = int(input(\"Enter the co-efficient of x: \" ))\n",
    "c = int(input(\"Enter the constant:\" ))\n",
    "#equation = a*x^2 + b*x + c\n",
    "\n",
    "Answer1 = (f\"-b + math.sqrt(b**2 - 4*a*c)) / 2*a\") \n",
    "Answer2 = (f\"-b - math.sqrt(b**2 - 4*a*c)) / 2*a \")\n",
    "\n",
    "print(Answer1 and Answer2)"
   ]
  }
 ],
 "metadata": {
  "kernelspec": {
   "display_name": "Python 3",
   "language": "python",
   "name": "python3"
  },
  "language_info": {
   "codemirror_mode": {
    "name": "ipython",
    "version": 3
   },
   "file_extension": ".py",
   "mimetype": "text/x-python",
   "name": "python",
   "nbconvert_exporter": "python",
   "pygments_lexer": "ipython3",
   "version": "3.13.2"
  }
 },
 "nbformat": 4,
 "nbformat_minor": 2
}
