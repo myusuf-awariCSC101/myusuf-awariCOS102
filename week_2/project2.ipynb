{
 "cells": [
  {
   "cell_type": "code",
   "execution_count": null,
   "metadata": {},
   "outputs": [],
   "source": [
    "a = int(input(\"Enter the co-efficient of x^2: \" ))\n",
    "b = int(input(\"Enter the co-efficient of x: \" ))\n",
    "c = int(input(\"Enter the constant:\" ))\n",
    "equation = a + b + c"
   ]
  }
 ],
 "metadata": {
  "language_info": {
   "name": "python"
  }
 },
 "nbformat": 4,
 "nbformat_minor": 2
}
