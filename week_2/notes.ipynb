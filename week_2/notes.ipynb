{
 "cells": [
  {
   "cell_type": "code",
   "execution_count": 1,
   "id": "f9861b83-d692-48cf-a7dc-af7542cf26ee",
   "metadata": {},
   "outputs": [
    {
     "data": {
      "text/plain": [
       "80"
      ]
     },
     "execution_count": 1,
     "metadata": {},
     "output_type": "execute_result"
    }
   ],
   "source": [
    "age = 38\n",
    "salary = 42\n",
    "\n",
    "age + salary"
   ]
  },
  {
   "cell_type": "code",
   "execution_count": 2,
   "id": "2378c1a4-28f6-4e35-a648-811758db5e54",
   "metadata": {},
   "outputs": [
    {
     "data": {
      "text/plain": [
       "0"
      ]
     },
     "execution_count": 2,
     "metadata": {},
     "output_type": "execute_result"
    }
   ],
   "source": [
    "#from float\n",
    "int(5.7) #it just removes the fraction part so output is 5\n",
    "\n",
    "#from string\n",
    "int(\"2\")\n",
    "\n",
    "#from boolean\n",
    "int(True) #1\n",
    "int(False) #0"
   ]
  },
  {
   "cell_type": "code",
   "execution_count": null,
   "id": "5c38f988-b85d-4e38-b71c-6eaf1f62c06d",
   "metadata": {},
   "outputs": [],
   "source": []
  }
 ],
 "metadata": {
  "kernelspec": {
   "display_name": "Python 3 (ipykernel)",
   "language": "python",
   "name": "python3"
  },
  "language_info": {
   "codemirror_mode": {
    "name": "ipython",
    "version": 3
   },
   "file_extension": ".py",
   "mimetype": "text/x-python",
   "name": "python",
   "nbconvert_exporter": "python",
   "pygments_lexer": "ipython3",
   "version": "3.13.2"
  }
 },
 "nbformat": 4,
 "nbformat_minor": 5
}
