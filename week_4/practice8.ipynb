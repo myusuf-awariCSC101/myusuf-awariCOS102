{
 "cells": [
  {
   "cell_type": "code",
   "execution_count": 1,
   "id": "935fc1d5",
   "metadata": {},
   "outputs": [
    {
     "name": "stdout",
     "output_type": "stream",
     "text": [
      "Inside the function local total:  30\n",
      "Outside the function global total:  50\n"
     ]
    }
   ],
   "source": [
    "total = 50 #This is global variable.\n",
    "\n",
    "def sum(arg1, arg2):\n",
    "    #Add both the parameters\n",
    "    total = arg1 + arg2\n",
    "    print(\"Inside the function local total: \", total)\n",
    "    return total\n",
    "\n",
    "#Now you can call sum function\n",
    "sum(10, 20)\n",
    "print(\"Outside the function global total: \", total)\n",
    "\n"
   ]
  }
 ],
 "metadata": {
  "kernelspec": {
   "display_name": "Python 3",
   "language": "python",
   "name": "python3"
  },
  "language_info": {
   "codemirror_mode": {
    "name": "ipython",
    "version": 3
   },
   "file_extension": ".py",
   "mimetype": "text/x-python",
   "name": "python",
   "nbconvert_exporter": "python",
   "pygments_lexer": "ipython3",
   "version": "3.13.2"
  }
 },
 "nbformat": 4,
 "nbformat_minor": 5
}
