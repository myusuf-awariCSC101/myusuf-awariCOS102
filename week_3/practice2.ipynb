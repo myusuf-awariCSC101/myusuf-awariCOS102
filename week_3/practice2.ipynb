{
 "cells": [
  {
   "cell_type": "code",
   "execution_count": null,
   "metadata": {},
   "outputs": [],
   "source": [
    "#Program to Check if a Number is Positive, Negative or 0\n",
    "\n",
    "num = float(input(\"Enter a number: \"))\n",
    "if num > 0:\n",
    "    print(\"Positive Number\")\n",
    "elif num == 0:\n",
    "    print(\"Zero\")\n",
    "else:\n",
    "    print(\"Negative Number\")        "
   ]
  }
 ],
 "metadata": {
  "language_info": {
   "name": "python"
  }
 },
 "nbformat": 4,
 "nbformat_minor": 2
}
